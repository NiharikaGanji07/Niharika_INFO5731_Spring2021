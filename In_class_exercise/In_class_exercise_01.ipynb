{
  "nbformat": 4,
  "nbformat_minor": 0,
  "metadata": {
    "colab": {
      "name": "In_class_exercise_01.ipynb",
      "provenance": [],
      "collapsed_sections": [],
      "include_colab_link": true
    },
    "kernelspec": {
      "display_name": "Python 3",
      "language": "python",
      "name": "python3"
    },
    "language_info": {
      "codemirror_mode": {
        "name": "ipython",
        "version": 3
      },
      "file_extension": ".py",
      "mimetype": "text/x-python",
      "name": "python",
      "nbconvert_exporter": "python",
      "pygments_lexer": "ipython3",
      "version": "3.7.4"
    }
  },
  "cells": [
    {
      "cell_type": "markdown",
      "metadata": {
        "id": "view-in-github",
        "colab_type": "text"
      },
      "source": [
        "<a href=\"https://colab.research.google.com/github/NiharikaGanji07/Niharika_INFO5731_Spring2021/blob/main/In_class_exercise/In_class_exercise_01.ipynb\" target=\"_parent\"><img src=\"https://colab.research.google.com/assets/colab-badge.svg\" alt=\"Open In Colab\"/></a>"
      ]
    },
    {
      "cell_type": "markdown",
      "metadata": {
        "id": "DymRJbxDBCnf"
      },
      "source": [
        "# **The first In-class-exercise (9/2/2020, 20 points in total)**"
      ]
    },
    {
      "cell_type": "markdown",
      "metadata": {
        "id": "03jb4GZsBkBS"
      },
      "source": [
        "(1) Write a Python program to calculate the length of a string. (2 points)"
      ]
    },
    {
      "cell_type": "code",
      "metadata": {
        "id": "YaGLbSHHB8Ej"
      },
      "source": [
        "# write your answer here\n",
        "strings=input(\"Enter string:\")\n",
        "count=0\n",
        "for i in strings:\n",
        "      count=count+1\n",
        "print(\"Length of the string is:\")\n",
        "print(count)\n",
        "\n",
        "\n",
        "\n"
      ],
      "execution_count": null,
      "outputs": []
    },
    {
      "cell_type": "markdown",
      "metadata": {
        "id": "jJDe71iLB616"
      },
      "source": [
        "(2) Write a Python program to count the number of characters in a string. (2 points)\n",
        "\n",
        "Sample String : 'google.com‘, \n",
        "\n",
        "Expected Result : {'o': 3, 'g': 2, '.': 1, 'e': 1, 'l': 1, 'm': 1, 'c': 1}"
      ]
    },
    {
      "cell_type": "code",
      "metadata": {
        "id": "MtKskTzbCLaU"
      },
      "source": [
        "# write your answer here\n",
        "strings=input(\"Enter a String\")\n",
        "count={}\n",
        "for i in strings:\n",
        "  if i in count:\n",
        "    count[i]+=1\n",
        "  else:\n",
        "      count[i]=1\n",
        "print(count)"
      ],
      "execution_count": null,
      "outputs": []
    },
    {
      "cell_type": "markdown",
      "metadata": {
        "id": "55W9AMdXCSpV"
      },
      "source": [
        "(3) Write a Python program to sum all the items in a list. (2 points)"
      ]
    },
    {
      "cell_type": "code",
      "metadata": {
        "id": "I57NXsauCec2"
      },
      "source": [
        "# write your answer here\n",
        "list1=[1,2,3,7]\n",
        "len1=len(list1)\n",
        "sum=0\n",
        "for i in range(0,len1):\n",
        "  sum=sum+list1[i]\n",
        "print(sum)"
      ],
      "execution_count": null,
      "outputs": []
    },
    {
      "cell_type": "markdown",
      "metadata": {
        "id": "4ulBZ6yhCi9F"
      },
      "source": [
        "(4) Write a Python program to get a string from a given string where all occurrences of its first char have been changed to '\\$', except the first char itself. (2 points)\n",
        "\n",
        "Sample String : 'restart‘, \n",
        "\n",
        "Expected Result : 'resta\\$t'"
      ]
    },
    {
      "cell_type": "code",
      "metadata": {
        "id": "Fj0XhwbBCw2o"
      },
      "source": [
        "# write your answer here\n",
        "strings=input(\"Enter a String: \")\n",
        "count=strings[0]\n",
        "rep=strings.replace(count,'$')\n",
        "rep=count+rep[1:]\n",
        "print(rep)"
      ],
      "execution_count": null,
      "outputs": []
    },
    {
      "cell_type": "markdown",
      "metadata": {
        "id": "_bIP7s1MCzue"
      },
      "source": [
        "(5) Write a program with python which could accept two parameter a and b to calculate and output the result of S, where \n",
        "\n",
        "$\\ S=3.14*(1+a/b)^3$ (3 points)\n",
        "\n"
      ]
    },
    {
      "cell_type": "code",
      "metadata": {
        "id": "w79QilHXD3Mg"
      },
      "source": [
        "# write your answer here\n",
        "a=int(input(\"enter value for a \"))\n",
        "b=int(input(\"enter value for b \"))\n",
        "s=3.14*(1+a/b)**3\n",
        "print(s)"
      ],
      "execution_count": null,
      "outputs": []
    },
    {
      "cell_type": "markdown",
      "metadata": {
        "id": "xCa2bK9aD4Q3"
      },
      "source": [
        "(6) Write a Python program to concatenate following dictionaries to create a new one. (3 points)\n",
        "\n",
        "Sample Dictionary : dic1={1:10, 2:20}, dic2={3:30, 4:40}, dic3={5:50,6:60}, \n",
        "\n",
        "Expected Result : {1: 10, 2: 20, 3: 30, 4: 40, 5: 50, 6: 60}\n"
      ]
    },
    {
      "cell_type": "code",
      "metadata": {
        "id": "_z4aLqAbEET1"
      },
      "source": [
        "# write your answer here\n",
        "dic1={1:10, 2:20}\n",
        "dic2={3:30, 4:40}\n",
        "dic3={5:50,6:60}\n",
        "dic2.update(dic3)\n",
        "dic1.update(dic2)\n",
        "print(dic1)"
      ],
      "execution_count": null,
      "outputs": []
    },
    {
      "cell_type": "markdown",
      "metadata": {
        "id": "0v48Vqa7FrQh"
      },
      "source": [
        "(7) Write a Python program to check whether an element exists within a tuple. (3 points)"
      ]
    },
    {
      "cell_type": "code",
      "metadata": {
        "colab": {
          "base_uri": "https://localhost:8080/"
        },
        "id": "7WEmgq-DF2P1",
        "outputId": "114f0a1e-8782-4946-9dc1-99bf40f57970"
      },
      "source": [
        "# write your answer here\n",
        "tpl=(10,20,30,40)\n",
        "element=int(input(\"enter a element\"))\n",
        "i=tpl.count(element)\n",
        "if i==1:\n",
        "  print(\"Element exists in the tuple\")\n",
        "else:\n",
        "  print(\"Element doesnot exist in the tuple\")"
      ],
      "execution_count": 18,
      "outputs": [
        {
          "output_type": "stream",
          "text": [
            "enter a element20\n",
            "Element exists in the tuple\n"
          ],
          "name": "stdout"
        }
      ]
    },
    {
      "cell_type": "markdown",
      "metadata": {
        "id": "vD5PYLMuGga_"
      },
      "source": [
        "(8) Write a Python program to find maximum and the minimum value in a set. (3 points)"
      ]
    },
    {
      "cell_type": "code",
      "metadata": {
        "id": "t0D5kdJUGjjw"
      },
      "source": [
        "# write your answer here\n",
        "s=[10,20,30,40,50]\n",
        "k=len(s)\n",
        "min=s[0]\n",
        "max=s[0]\n",
        "for i in range(0,k):\n",
        "  if s[i]<min:\n",
        "    min=s[i]\n",
        "  if s[i]>max:\n",
        "    max=s[i]\n",
        "print(\"The minimum value in the set s is:\")\n",
        "print(min)\n",
        "print(\"The maximum value in the set s is:\")\n",
        "print(max)"
      ],
      "execution_count": null,
      "outputs": []
    },
    {
      "cell_type": "markdown",
      "metadata": {
        "id": "uHkd-y5VhVWC"
      },
      "source": [
        "(9) Write a Python program to randomly divide the students in this class into five groups for term projects, each group should have at least 3 students but no more than 5 students (including 5). Here is the students list: (3 points for extra)\n",
        "\n",
        "studnet_list = ['vmb0067','pc0353','snd0097','yye0005','sg0940','bk0301','rak0120','rrk0058','spk0057','vl0135','nm0547','pn0159',\n",
        "                'msp0174','dd0420','ds0761','rs0850','ss1995','at0739','at0768','mv0299','tv0119','dy0091']"
      ]
    },
    {
      "cell_type": "code",
      "metadata": {
        "colab": {
          "base_uri": "https://localhost:8080/"
        },
        "id": "3iGbmcOBhTwy",
        "outputId": "eb636a17-6385-414a-ca42-46a42016ce1f"
      },
      "source": [
        "import random\n",
        "participants=['vmb0067','pc0353','snd0097','yye0005','sg0940','bk0301','rak0120','rrk0058','spk0057','vl0135','nm0547','pn0159', 'msp0174','dd0420','ds0761','rs0850','ss1995','at0739','at0768','mv0299','tv0119','dy0091']\n",
        "group=1\n",
        "membersInGroup=5\n",
        "\n",
        "for participant in participants[:]:               # only modification\n",
        "    if membersInGroup==5:\n",
        "        print(\"Group {} consists of;\".format(group))\n",
        "        membersInGroup=0\n",
        "        group+=1\n",
        "    person=random.choice(participants)\n",
        "    print(person)\n",
        "    membersInGroup+=1\n",
        "    participants.remove(str(person))"
      ],
      "execution_count": 1,
      "outputs": [
        {
          "output_type": "stream",
          "text": [
            "Group 1 consists of;\n",
            "rak0120\n",
            "ds0761\n",
            "vmb0067\n",
            "pn0159\n",
            "mv0299\n",
            "Group 2 consists of;\n",
            "tv0119\n",
            "vl0135\n",
            "bk0301\n",
            "snd0097\n",
            "yye0005\n",
            "Group 3 consists of;\n",
            "spk0057\n",
            "pc0353\n",
            "nm0547\n",
            "msp0174\n",
            "sg0940\n",
            "Group 4 consists of;\n",
            "dy0091\n",
            "at0739\n",
            "rs0850\n",
            "dd0420\n",
            "at0768\n",
            "Group 5 consists of;\n",
            "rrk0058\n",
            "ss1995\n"
          ],
          "name": "stdout"
        }
      ]
    }
  ]
}