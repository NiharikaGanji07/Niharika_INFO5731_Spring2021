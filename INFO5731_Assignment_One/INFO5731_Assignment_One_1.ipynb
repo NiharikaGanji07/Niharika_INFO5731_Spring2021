{
  "nbformat": 4,
  "nbformat_minor": 0,
  "metadata": {
    "colab": {
      "name": "INFO5731_Assignment_One-1.ipynb",
      "provenance": [],
      "collapsed_sections": [],
      "include_colab_link": true
    },
    "kernelspec": {
      "display_name": "Python 3",
      "language": "python",
      "name": "python3"
    },
    "language_info": {
      "codemirror_mode": {
        "name": "ipython",
        "version": 3
      },
      "file_extension": ".py",
      "mimetype": "text/x-python",
      "name": "python",
      "nbconvert_exporter": "python",
      "pygments_lexer": "ipython3",
      "version": "3.7.4"
    }
  },
  "cells": [
    {
      "cell_type": "markdown",
      "metadata": {
        "id": "view-in-github",
        "colab_type": "text"
      },
      "source": [
        "<a href=\"https://colab.research.google.com/github/NiharikaGanji07/Niharika_INFO5731_Spring2021/blob/main/INFO5731_Assignment_One/INFO5731_Assignment_One_1.ipynb\" target=\"_parent\"><img src=\"https://colab.research.google.com/assets/colab-badge.svg\" alt=\"Open In Colab\"/></a>"
      ]
    },
    {
      "cell_type": "markdown",
      "metadata": {
        "id": "Ryk8D1Q4Wsrp"
      },
      "source": [
        "# **INFO5731 Assignment One**"
      ]
    },
    {
      "cell_type": "markdown",
      "metadata": {
        "id": "90_NR8c5XGWc"
      },
      "source": [
        "# Question 1\n",
        "\n",
        "(20 points). Write a Python program to generate 12 random numbers between 1 and 100. Sort the list of numbers in ascending order and print it out. Sort the list of numbers in descending order and print it out. Calculate the average for the group and print it out."
      ]
    },
    {
      "cell_type": "code",
      "metadata": {
        "colab": {
          "base_uri": "https://localhost:8080/"
        },
        "id": "5QX6bJjGWXY9",
        "outputId": "57a6e990-fac0-4d8d-857d-2b2c597436f6"
      },
      "source": [
        "# Your code here\n",
        "import random\n",
        "list1 = [random.randrange(1, 100, 1) for i in range(12)]\n",
        "print(\"The original list is:\", list1)\n",
        "list1.sort(reverse=True)\n",
        "print(\"After sorting list in descending order:\", list1)\n",
        "list1.sort(reverse=False)\n",
        "print(\"After sorting list in ascending order \", list1)\n",
        "sum=0\n",
        "average=0\n",
        "for i in range(0,len(list1)):\n",
        "  sum=sum+list1[i]\n",
        "average=sum/len(list1)\n",
        "print(\"Average of the list is:\", average)"
      ],
      "execution_count": 164,
      "outputs": [
        {
          "output_type": "stream",
          "text": [
            "The original list is: [86, 55, 69, 77, 33, 45, 44, 1, 95, 91, 93, 69]\n",
            "After sorting list in descending order: [95, 93, 91, 86, 77, 69, 69, 55, 45, 44, 33, 1]\n",
            "After sorting list in ascending order  [1, 33, 44, 45, 55, 69, 69, 77, 86, 91, 93, 95]\n",
            "Average of the list is: 63.166666666666664\n"
          ],
          "name": "stdout"
        }
      ]
    },
    {
      "cell_type": "markdown",
      "metadata": {
        "id": "1F_PZdH9Sh49"
      },
      "source": [
        "# Question 2\n",
        "(25 points). Write a program that will do the following string formatting tasks:\n",
        "\n",
        "(1) Ask the user to enter two sentences.\n",
        "\n",
        "(2) Make each sentence into a list. Each element in the list should correspond to a word in the sentence. For example, if the sentence is \"Alas! Am I alive? This is my first python program\", the program should print out ['Alas, '!', 'Am', 'I', 'alive, '?', 'This', 'is', 'my', 'first', 'python', 'program'].\n",
        "\n",
        "(3) Compare the two sentences. Print out a list of words that occur in both sentences.\n",
        "\n",
        "(4) Remove any punctuation from the sentence and print it back out. It should remove at least the following characters, but it can remove more: period(“.”), comma (“,”), semicolon (“;”), and colon (“:”)\n",
        "\n",
        "(5) Count the number of vowels in the sentences. Print out each vowel and the number of times it appears in the sentences, such as: a:2, e:1, i:0, etc"
      ]
    },
    {
      "cell_type": "code",
      "metadata": {
        "colab": {
          "base_uri": "https://localhost:8080/"
        },
        "id": "Y0oOSlsOS0cq",
        "outputId": "a7bc6b72-a8ac-49a6-edd4-344568ee9dd8"
      },
      "source": [
        "# Your code here\n",
        "\n",
        "import nltk\n",
        "#ntlk.download('punkt')\n",
        "from nltk import *\n",
        "from nltk.tokenize import word_tokenize\n",
        "nltk.download('punkt')\n",
        "sen1=input(\"Enter first sentence: \")\n",
        "sen2=input(\"Enter second sentence: \")\n",
        "list1=word_tokenize(sen1)\n",
        "print(\"words in the first sentence are:\", list1)\n",
        "list2=word_tokenize(sen2)\n",
        "print(\"words in the second sentence are:\", list2)\n",
        "same=[]\n",
        "for i in range(len(list1)):\n",
        "  for j in list2:\n",
        "    if(list1[i]==j):\n",
        "      same.append(j)\n",
        "print(\"The matching words in both the sentences are:\", same)\n",
        "def punctuationany(sen):\n",
        "  punc = '''!()-[]{};:'\"\\, <>./?@#$%^&*_~'''\n",
        "  for i in sen:\n",
        "    if i in punc:\n",
        "      sen= sen.replace(i, \" \") \n",
        "  return sen\n",
        "print(\"after removing punctuations first sentence looks like:\", punctuationany(sen1))\n",
        "print(\"after removing punctuations first sentence looks like:\", punctuationany(sen2))\n",
        "def vowelcount(sent):\n",
        "  counta=0\n",
        "  counte=0\n",
        "  counti=0\n",
        "  counto=0\n",
        "  countu=0\n",
        "  for w in sent:\n",
        "    if (w=='a' or w=='A'):\n",
        "      counta+=1\n",
        "    if (w=='e' or w=='E'):\n",
        "      counte+=1\n",
        "    if (w=='i' or w=='I'):\n",
        "      counti+=1\n",
        "    if (w=='o' or w=='O'):\n",
        "      counto+=1\n",
        "    if (w=='u' or w=='U'):\n",
        "      countu+=1\n",
        "  return \"a:\",counta,\"e:\",counte,\"i:\",counti,\"o:\",counto,\"u:\",countu\n",
        "print(\"The count of vowels in First Sentence is: \",vowelcount(sen1))\n",
        "print(\" The count of vowels in second sentence is: \",vowelcount(sen2))"
      ],
      "execution_count": 166,
      "outputs": [
        {
          "output_type": "stream",
          "text": [
            "[nltk_data] Downloading package punkt to /root/nltk_data...\n",
            "[nltk_data]   Package punkt is already up-to-date!\n",
            "Enter first sentence: Alas! Am I alive? This is my first python program\n",
            "Enter second sentence: Programming is easy\n",
            "words in the first sentence are: ['Alas', '!', 'Am', 'I', 'alive', '?', 'This', 'is', 'my', 'first', 'python', 'program']\n",
            "words in the second sentence are: ['Programming', 'is', 'easy']\n",
            "The matching words in both the sentences are: ['is']\n",
            "after removing punctuations first sentence looks like: Alas  Am I alive  This is my first python program\n",
            "after removing punctuations first sentence looks like: Programming is easy\n",
            "The count of vowels in First Sentence is:  ('a:', 5, 'e:', 1, 'i:', 5, 'o:', 2, 'u:', 0)\n",
            " The count of vowels in second sentence is:  ('a:', 2, 'e:', 1, 'i:', 2, 'o:', 1, 'u:', 0)\n"
          ],
          "name": "stdout"
        }
      ]
    },
    {
      "cell_type": "markdown",
      "metadata": {
        "id": "CmFoI4jDS9nx"
      },
      "source": [
        "# Question 3 \n",
        "\n",
        "(15 points). The formula that describes the volume V of a sphere with radius r is the following:\n",
        "\n",
        "$ V=\\frac{4}{3}\\ast\\ \\pi\\ast\\ r^3 $\n",
        "\n",
        "Write a program to calculate the value of V when r is in the range of 1–10. Output the result in the following format:\n",
        "\n",
        "\tr\tV\n",
        "\t1\t…\n",
        "\t2\t…\n",
        "\t3\t…\n"
      ]
    },
    {
      "cell_type": "code",
      "metadata": {
        "colab": {
          "base_uri": "https://localhost:8080/"
        },
        "id": "pEyqeioAT95b",
        "outputId": "63ebccbb-fb7d-4adc-f562-dfb26fb9ea25"
      },
      "source": [
        "# Your code here\n",
        "r= range(1,11)\n",
        "print('r','v')\n",
        "for i in r:\n",
        "  v=round(1.33*3.14*i**3,2)\n",
        "  print(i,v)\n"
      ],
      "execution_count": 8,
      "outputs": [
        {
          "output_type": "stream",
          "text": [
            "r v\n",
            "1 4.18\n",
            "2 33.41\n",
            "3 112.76\n",
            "4 267.28\n",
            "5 522.03\n",
            "6 902.06\n",
            "7 1432.44\n",
            "8 2138.21\n",
            "9 3044.45\n",
            "10 4176.2\n"
          ],
          "name": "stdout"
        }
      ]
    },
    {
      "cell_type": "code",
      "metadata": {
        "id": "pMCr3l8tnu0j"
      },
      "source": [
        ""
      ],
      "execution_count": null,
      "outputs": []
    },
    {
      "cell_type": "markdown",
      "metadata": {
        "id": "z3tBE7E-Xn5X"
      },
      "source": [
        "# Question 4\n",
        "\n",
        "(40 points). In the field of Data Science, data is often formatted as a comma-delimited (CSV) file, where each line in a file corresponds to a field's value. Refer to Chapter 9 (p. 106) for more information on comma-delimited files. To answer this question, you will need to download the file [Assignment1_denton_housing.csv](https://github.com/unt-iialab/info5731_spring2021/blob/main/assignment/Assignment1_denton_housing.csv) included with this assignment. The file [Assignment1_denton_housing.csv](https://github.com/unt-iialab/info5731_spring2021/blob/main/assignment/Assignment1_denton_housing.csv) contains statistics about housing in the city of Denton from 2008 to 2014. Write a program to implement the following questions.\n",
        "\n",
        "(1) (10 pts) Calculate the difference in the number of Occupied Housing Units from year to year and print it. The difference must be calculated for the consecutive years such as 2008-2009, 2009-2010 etc. Finally, print the values in the ascending order.\n",
        "\n",
        "(2) (10 pts) For all the years, calculate the percentage of housing units which are vacant an occupied. Print the results in the following format:\n",
        "\n",
        "Year Vacant Housing Units Occupied Housing Units\n",
        "\n",
        "    2008  30%   70%                          \n",
        "\t2009 ----- -----\n",
        "\t2010 ----- -----\n",
        "    2011 ----- -----\n",
        "\t2012 ----- -----\n",
        "    2013 ----- -----\n",
        "\t2014 ----- -----\n",
        "  \n",
        "  \n",
        "\n",
        "(3) (10 pts) Calculate and print the valued and years in which the highest number of housing units were vacant and occupied. Print the results in the following format:  \n",
        "\n",
        "                              Year\tValue\n",
        "\tVacant Housing Units\t  -----   -----\n",
        "\tOccupied Housing Units\t-----   -----\n",
        "\n",
        "(4) (10 pts) Calculate the harmonic mean of the total housing units and print it out. You can find the information about harmonic mean here: https://ncalculators.com/statistics/harmonic-mean-calculator.htm"
      ]
    },
    {
      "cell_type": "code",
      "metadata": {
        "colab": {
          "base_uri": "https://localhost:8080/"
        },
        "id": "lqGYuHBhcsRH",
        "outputId": "253648b0-1560-48c4-9a98-559326333c24"
      },
      "source": [
        "# Your code here\n",
        "\n",
        "#First Question\n",
        "import pandas as pd\n",
        "import math\n",
        "import csv\n",
        "housesoccupied={} \n",
        "totalhouses={}\n",
        "vacanthouses={}\n",
        "print(\"First Question\")\n",
        "\n",
        "list1=[]\n",
        "list2=[]\n",
        "list3=[]\n",
        "list4=[]\n",
        "list5=[]\n",
        "list6=[]\n",
        "with open('Assignment1_denton_housing.csv') as csvfile:\n",
        "  reader=csv.DictReader(csvfile)\n",
        "  for row in reader:\n",
        "    if row['title_field']=='Occupied Housing Units':\n",
        "      #print('occupied',row['value'],row['year'])\n",
        "      housesoccupied[row['year']]=row['value']\n",
        "\n",
        "for year in range(2008,2014):\n",
        "  list1=int(housesoccupied[str(year)])-int(housesoccupied[str(year+1)])\n",
        "  print(year,\"to\", year+1,list1)\n",
        "  list2.append(list1)\n",
        "list2.sort(reverse=False)\n",
        "print(\"Ascending Order\")\n",
        "print(list2)\n",
        "\n",
        "#second Question\n",
        "\n",
        "print(\"Second Question\")\n",
        "\n",
        "with open('Assignment1_denton_housing.csv') as csvfile:\n",
        "  reader=csv.DictReader(csvfile)\n",
        "  for row in reader:\n",
        "    if row['title_field']=='Occupied Housing Units':\n",
        "      housesoccupied[row['year']]=row['value']\n",
        "    elif row['title_field']=='Total Housing Units':\n",
        "      totalhouses[row['year']]=row['value']\n",
        "    elif row['title_field']=='Vacant Housing Units': \n",
        "      vacanthouses[row['year']]=row['value']\n",
        "for year in range(2008,2015):\n",
        "  k=round(int(housesoccupied[str(year)])*100/int(totalhouses[str(year)]))\n",
        "  j=round(int(vacanthouses[str(year)])*100/int(totalhouses[str(year)]))\n",
        "  print(year,k, \"%\", j,\"%\")\n",
        "\n",
        "\n",
        "#Third Question\n",
        "\n",
        "print(\"Third Question\")\n",
        "\n",
        "\n",
        "for year in range(2008,2015):\n",
        "  list3=int(housesoccupied[str(year)])\n",
        "  list4.append(list3)\n",
        "for k in range(2008,2015): \n",
        "  list5=int(vacanthouses[str(k)])\n",
        "  list6.append(list5)\n",
        "k=max(list4 )\n",
        "print(\"Houses Occupied:\", k)\n",
        "l=max(list6)\n",
        "print(\"Vacant Houses:\", l)\n",
        "\n",
        "#Fourth Question\n",
        "\n",
        "print(\"Fourth Question\")\n",
        "sum=0\n",
        "for year in range(2008,2015):\n",
        "  sum=sum+int(totalhouses[str(year)])**-1\n",
        "mean=len(totalhouses)/sum\n",
        "print(\"Harmonic mean is: \", mean)\n",
        "\n",
        "\n"
      ],
      "execution_count": 174,
      "outputs": [
        {
          "output_type": "stream",
          "text": [
            "First Question\n",
            "2008 to 2009 795\n",
            "2009 to 2010 -5091\n",
            "2010 to 2011 303\n",
            "2011 to 2012 -1404\n",
            "2012 to 2013 -1565\n",
            "2013 to 2014 -2622\n",
            "Ascending Order\n",
            "[-5091, -2622, -1565, -1404, 303, 795]\n",
            "Second Question\n",
            "2008 89 % 11 %\n",
            "2009 91 % 9 %\n",
            "2010 92 % 8 %\n",
            "2011 91 % 9 %\n",
            "2012 93 % 7 %\n",
            "2013 91 % 9 %\n",
            "2014 94 % 6 %\n",
            "Third Question\n",
            "Houses Occupied: 46295\n",
            "Vacant Houses: 4483\n",
            "Fourth Question\n",
            "Harmonic mean is:  44398.28543969185\n"
          ],
          "name": "stdout"
        }
      ]
    },
    {
      "cell_type": "code",
      "metadata": {
        "id": "mfmIko9BQR3S"
      },
      "source": [
        ""
      ],
      "execution_count": 147,
      "outputs": []
    }
  ]
}